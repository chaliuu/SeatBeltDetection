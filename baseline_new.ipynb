{
 "cells": [
  {
   "cell_type": "code",
   "execution_count": 2,
   "id": "e82708f4",
   "metadata": {},
   "outputs": [],
   "source": [
    "import pandas as pd\n",
    "import os\n",
    "from skimage.transform import resize\n",
    "from skimage.io import imread\n",
    "import numpy as np\n",
    "import matplotlib.pyplot as plt\n",
    "from sklearn import svm\n",
    "from sklearn.metrics import accuracy_score\n",
    "from sklearn.model_selection import GridSearchCV\n",
    "from roboflow import Roboflow\n",
    "import json\n",
    "import PIL"
   ]
  },
  {
   "cell_type": "code",
   "execution_count": 3,
   "id": "b3ae1214",
   "metadata": {},
   "outputs": [],
   "source": [
    "#Citations: the code below reference code from the online article \n",
    "#\"Image classification using Support Vector Machine (SVM) in Python\"\n",
    "#url: https://www.geeksforgeeks.org/image-classification-using-support-vector-machine-svm-in-python/"
   ]
  },
  {
   "cell_type": "code",
   "execution_count": 4,
   "id": "108c3a7c",
   "metadata": {},
   "outputs": [
    {
     "name": "stdout",
     "output_type": "stream",
     "text": [
      "Requirement already satisfied: roboflow in c:\\users\\charl\\appdata\\local\\programs\\python\\python311\\lib\\site-packages (1.1.1)\n",
      "Requirement already satisfied: certifi==2022.12.7 in c:\\users\\charl\\appdata\\local\\programs\\python\\python311\\lib\\site-packages (from roboflow) (2022.12.7)\n",
      "Requirement already satisfied: chardet==4.0.0 in c:\\users\\charl\\appdata\\local\\programs\\python\\python311\\lib\\site-packages (from roboflow) (4.0.0)\n",
      "Requirement already satisfied: cycler==0.10.0 in c:\\users\\charl\\appdata\\local\\programs\\python\\python311\\lib\\site-packages (from roboflow) (0.10.0)\n",
      "Requirement already satisfied: idna==2.10 in c:\\users\\charl\\appdata\\local\\programs\\python\\python311\\lib\\site-packages (from roboflow) (2.10)\n",
      "Requirement already satisfied: kiwisolver>=1.3.1 in c:\\users\\charl\\appdata\\local\\programs\\python\\python311\\lib\\site-packages (from roboflow) (1.4.4)\n",
      "Requirement already satisfied: matplotlib in c:\\users\\charl\\appdata\\local\\programs\\python\\python311\\lib\\site-packages (from roboflow) (3.7.1)\n",
      "Requirement already satisfied: numpy>=1.18.5 in c:\\users\\charl\\appdata\\local\\programs\\python\\python311\\lib\\site-packages (from roboflow) (1.24.3)\n",
      "Requirement already satisfied: opencv-python>=4.1.2 in c:\\users\\charl\\appdata\\local\\programs\\python\\python311\\lib\\site-packages (from roboflow) (4.8.0.74)\n",
      "Requirement already satisfied: Pillow>=7.1.2 in c:\\users\\charl\\appdata\\local\\programs\\python\\python311\\lib\\site-packages (from roboflow) (9.5.0)\n",
      "Requirement already satisfied: pyparsing==2.4.7 in c:\\users\\charl\\appdata\\local\\programs\\python\\python311\\lib\\site-packages (from roboflow) (2.4.7)\n",
      "Requirement already satisfied: python-dateutil in c:\\users\\charl\\appdata\\local\\programs\\python\\python311\\lib\\site-packages (from roboflow) (2.8.2)\n",
      "Requirement already satisfied: python-dotenv in c:\\users\\charl\\appdata\\local\\programs\\python\\python311\\lib\\site-packages (from roboflow) (1.0.0)\n",
      "Requirement already satisfied: requests in c:\\users\\charl\\appdata\\local\\programs\\python\\python311\\lib\\site-packages (from roboflow) (2.30.0)\n",
      "Requirement already satisfied: six in c:\\users\\charl\\appdata\\local\\programs\\python\\python311\\lib\\site-packages (from roboflow) (1.16.0)\n",
      "Requirement already satisfied: supervision in c:\\users\\charl\\appdata\\local\\programs\\python\\python311\\lib\\site-packages (from roboflow) (0.11.1)\n",
      "Requirement already satisfied: urllib3>=1.26.6 in c:\\users\\charl\\appdata\\local\\programs\\python\\python311\\lib\\site-packages (from roboflow) (2.0.2)\n",
      "Requirement already satisfied: wget in c:\\users\\charl\\appdata\\local\\programs\\python\\python311\\lib\\site-packages (from roboflow) (3.2)\n",
      "Requirement already satisfied: tqdm>=4.41.0 in c:\\users\\charl\\appdata\\local\\programs\\python\\python311\\lib\\site-packages (from roboflow) (4.65.0)\n",
      "Requirement already satisfied: PyYAML>=5.3.1 in c:\\users\\charl\\appdata\\local\\programs\\python\\python311\\lib\\site-packages (from roboflow) (6.0)\n",
      "Requirement already satisfied: requests-toolbelt in c:\\users\\charl\\appdata\\local\\programs\\python\\python311\\lib\\site-packages (from roboflow) (1.0.0)\n",
      "Requirement already satisfied: colorama in c:\\users\\charl\\appdata\\local\\programs\\python\\python311\\lib\\site-packages (from tqdm>=4.41.0->roboflow) (0.4.6)\n",
      "Requirement already satisfied: contourpy>=1.0.1 in c:\\users\\charl\\appdata\\local\\programs\\python\\python311\\lib\\site-packages (from matplotlib->roboflow) (1.0.7)\n",
      "Requirement already satisfied: fonttools>=4.22.0 in c:\\users\\charl\\appdata\\local\\programs\\python\\python311\\lib\\site-packages (from matplotlib->roboflow) (4.39.4)\n",
      "Requirement already satisfied: packaging>=20.0 in c:\\users\\charl\\appdata\\local\\programs\\python\\python311\\lib\\site-packages (from matplotlib->roboflow) (23.1)\n",
      "Requirement already satisfied: charset-normalizer<4,>=2 in c:\\users\\charl\\appdata\\local\\programs\\python\\python311\\lib\\site-packages (from requests->roboflow) (3.1.0)\n",
      "loading Roboflow workspace...\n",
      "loading Roboflow project...\n",
      "Downloading Dataset Version Zip in APS360_(2)-1 to coco: 100% [68721173 / 68721173] bytes\n"
     ]
    },
    {
     "name": "stderr",
     "output_type": "stream",
     "text": [
      "Extracting Dataset Version Zip to APS360_(2)-1 in coco:: 100%|████████████████████| 1445/1445 [00:05<00:00, 273.46it/s]\n"
     ]
    }
   ],
   "source": [
    "#Citations: this code is given by reboflow to install dataset\n",
    "!pip install roboflow\n",
    "\n",
    "from roboflow import Roboflow\n",
    "rf = Roboflow(api_key=\"gMTVjr2tVu8feJmkrnPs\")\n",
    "project = rf.workspace(\"aps360-project-6tmc3\").project(\"aps360_-2\")\n",
    "dataset = project.version(1).download(\"coco\")"
   ]
  },
  {
   "cell_type": "code",
   "execution_count": 5,
   "id": "5ec28575",
   "metadata": {},
   "outputs": [],
   "source": [
    "#data preprocessing\n",
    "def open_coco_file(coco_annots_file_path):\n",
    "    #takes in the file path to a coco annotations and  \n",
    "    #returns a dictionary of image id and a tuple of image file path and category\n",
    "    flat_img_list = []\n",
    "    labels_list = []\n",
    "    with open(os.path.join(coco_annots_file_path,\"_annotations.coco.json\"), 'r') as f:\n",
    "            file = json.load(f)\n",
    "    \n",
    "    for id in range(len(file['images'])):\n",
    "        img_path = file['images'][id]['file_name']\n",
    "        img_label = file['annotations'][id]['category_id']\n",
    "        \n",
    "        img_arr = np.array(PIL.Image.open(os.path.join(coco_annots_file_path,img_path)))\n",
    "        flat_img_list.append(resize(img_arr,(150,150,3)).flatten())\n",
    "        if img_label == 1:\n",
    "            labels_list.append('seatbelt')\n",
    "        elif img_label == 2:\n",
    "            labels_list.append('no-seatbelt')\n",
    "    df=pd.DataFrame(flat_img_list) \n",
    "    df['Labels']=labels_list\n",
    "    return df\n",
    "        "
   ]
  },
  {
   "cell_type": "code",
   "execution_count": 6,
   "id": "76b901cc",
   "metadata": {},
   "outputs": [],
   "source": [
    "train_path = \"./APS360_(2)-1/train\"\n",
    "test_path = \"./APS360_(2)-1/test\"\n",
    "df_train = open_coco_file(train_path)\n",
    "df_test = open_coco_file(test_path)"
   ]
  },
  {
   "cell_type": "code",
   "execution_count": 7,
   "id": "f8d5f4a3",
   "metadata": {},
   "outputs": [
    {
     "data": {
      "text/plain": [
       "(272, 67501)"
      ]
     },
     "execution_count": 7,
     "metadata": {},
     "output_type": "execute_result"
    }
   ],
   "source": [
    "df_test.shape"
   ]
  },
  {
   "cell_type": "code",
   "execution_count": 8,
   "id": "ee7848b6",
   "metadata": {},
   "outputs": [
    {
     "data": {
      "text/plain": [
       "0       seatbelt\n",
       "1       seatbelt\n",
       "2    no-seatbelt\n",
       "3       seatbelt\n",
       "Name: Labels, dtype: object"
      ]
     },
     "execution_count": 8,
     "metadata": {},
     "output_type": "execute_result"
    }
   ],
   "source": [
    "#input data \n",
    "x_train=df_train.iloc[:,:-1] \n",
    "x_test=df_test.iloc[:,:-1]\n",
    "#output data\n",
    "y_train=df_train.iloc[:,-1]\n",
    "y_test=df_test.iloc[:,-1]\n",
    "y_train[:4]"
   ]
  },
  {
   "cell_type": "code",
   "execution_count": 9,
   "id": "d6ce6ead",
   "metadata": {},
   "outputs": [],
   "source": [
    "# Defining the parameters grid for GridSearchCV\n",
    "param_grid={'C':[0.1,1,10,100],\n",
    "            'gamma':[0.0001,0.001,0.1,1],\n",
    "            'kernel':['rbf','poly']}\n",
    "  \n",
    "# Creating a support vector classifier\n",
    "svc=svm.SVC(probability=True)\n",
    "# Creating a model using GridSearchCV with the parameters grid\n",
    "model=GridSearchCV(svc,param_grid)  "
   ]
  },
  {
   "cell_type": "code",
   "execution_count": null,
   "id": "80aefcac",
   "metadata": {},
   "outputs": [],
   "source": [
    "# Training the model using the training data\n",
    "model.fit(x_train,y_train)"
   ]
  },
  {
   "cell_type": "code",
   "execution_count": null,
   "id": "3db33f17",
   "metadata": {},
   "outputs": [],
   "source": [
    "# Testing the model using the testing data\n",
    "y_pred = model.predict(x_test)\n",
    "  "
   ]
  },
  {
   "cell_type": "code",
   "execution_count": null,
   "id": "c94647eb",
   "metadata": {},
   "outputs": [],
   "source": [
    "# Calculating the accuracy of the model\n",
    "accuracy = accuracy_score(y_pred, y_test)\n",
    "      \n",
    "# Print the accuracy of the model\n",
    "print(f\"The model is {accuracy*100}% accurate\")"
   ]
  },
  {
   "cell_type": "code",
   "execution_count": null,
   "id": "0ac47f0a",
   "metadata": {},
   "outputs": [],
   "source": [
    "print(classification_report(y_test, y_pred, target_names=['seatbelt', 'no-seatbelt']))"
   ]
  }
 ],
 "metadata": {
  "kernelspec": {
   "display_name": "Python 3 (ipykernel)",
   "language": "python",
   "name": "python3"
  },
  "language_info": {
   "codemirror_mode": {
    "name": "ipython",
    "version": 3
   },
   "file_extension": ".py",
   "mimetype": "text/x-python",
   "name": "python",
   "nbconvert_exporter": "python",
   "pygments_lexer": "ipython3",
   "version": "3.11.3"
  }
 },
 "nbformat": 4,
 "nbformat_minor": 5
}
